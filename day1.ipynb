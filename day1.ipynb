{
 "cells": [
  {
   "cell_type": "markdown",
   "id": "cbd27572",
   "metadata": {},
   "source": [
    "1. tipe data"
   ]
  },
  {
   "cell_type": "code",
   "execution_count": 6,
   "id": "c3d22b9c",
   "metadata": {},
   "outputs": [
    {
     "name": "stdout",
     "output_type": "stream",
     "text": [
      "data :  1 , tipe data :  <class 'int'>\n"
     ]
    }
   ],
   "source": [
    "#tipe data integer\n",
    "data_integer = 1\n",
    "print(\"data : \", data_integer, \", tipe data : \", type(data_integer))"
   ]
  },
  {
   "cell_type": "code",
   "execution_count": null,
   "id": "250a32ea",
   "metadata": {},
   "outputs": [
    {
     "name": "stdout",
     "output_type": "stream",
     "text": [
      "data :  3.5 , tipe data :  <class 'float'>\n"
     ]
    }
   ],
   "source": [
    "#tipe data float dengan nilai desimal\n",
    "data_float = 3.5\n",
    "print(\"data : \", data_float, \", tipe data : \", type(data_float))"
   ]
  },
  {
   "cell_type": "code",
   "execution_count": 8,
   "id": "af1ad8a6",
   "metadata": {},
   "outputs": [
    {
     "name": "stdout",
     "output_type": "stream",
     "text": [
      "data :  ini adalah string , tipe data :  <class 'str'>\n"
     ]
    }
   ],
   "source": [
    "#tipe data string\n",
    "data_string = \"ini adalah string\"\n",
    "print(\"data : \", data_string, \", tipe data : \", type(data_string))"
   ]
  },
  {
   "cell_type": "code",
   "execution_count": 9,
   "id": "b3b42144",
   "metadata": {},
   "outputs": [
    {
     "name": "stdout",
     "output_type": "stream",
     "text": [
      "data :  False , tipe data :  <class 'bool'>\n"
     ]
    }
   ],
   "source": [
    "#tipe data boolean\n",
    "data_bool = False\n",
    "print(\"data : \", data_bool, \", tipe data : \", type(data_bool))"
   ]
  },
  {
   "cell_type": "code",
   "execution_count": 10,
   "id": "71b6297d",
   "metadata": {},
   "outputs": [
    {
     "name": "stdout",
     "output_type": "stream",
     "text": [
      "data :  5j , tipe data :  <class 'complex'>\n"
     ]
    }
   ],
   "source": [
    "#tipe data complex\n",
    "data_complex = 5j\n",
    "print(\"data : \", data_complex, \", tipe data : \", type(data_complex))"
   ]
  },
  {
   "cell_type": "markdown",
   "id": "ab8f53bd",
   "metadata": {},
   "source": [
    "2. casting (merubah dari satu tipe data ke tipe lain)"
   ]
  },
  {
   "cell_type": "code",
   "execution_count": null,
   "id": "e9b772b5",
   "metadata": {},
   "outputs": [
    {
     "name": "stdout",
     "output_type": "stream",
     "text": [
      "data :  1 , tipe data :  <class 'int'>\n",
      "data :  1.0 , tipe data :  <class 'float'>\n",
      "data :  1 , tipe data :  <class 'str'>\n",
      "data :  True , tipe data :  <class 'bool'>\n"
     ]
    }
   ],
   "source": [
    "data_int = 1\n",
    "print(\"data : \", data_int, \", tipe data : \", type(data_int))\n",
    "data_float = float(data_int)\n",
    "print(\"data : \", data_float, \", tipe data : \", type(data_float))\n",
    "data_string = str(data_int)\n",
    "print(\"data : \", data_string, \", tipe data : \", type(data_string))\n",
    "data_bool = bool(data_int)\n",
    "print(\"data : \", data_bool, \", tipe data : \", type(data_bool))"
   ]
  },
  {
   "cell_type": "markdown",
   "id": "7c6975c4",
   "metadata": {},
   "source": [
    "3. input user"
   ]
  },
  {
   "cell_type": "code",
   "execution_count": 12,
   "id": "85f17022",
   "metadata": {},
   "outputs": [
    {
     "name": "stdout",
     "output_type": "stream",
     "text": [
      "data :  dimas , tipe data :  <class 'str'>\n"
     ]
    }
   ],
   "source": [
    "data = input(\"masukkan data : \")\n",
    "print(\"data : \", data, \", tipe data : \", type(data))"
   ]
  },
  {
   "cell_type": "code",
   "execution_count": 14,
   "id": "7c2271e2",
   "metadata": {},
   "outputs": [
    {
     "name": "stdout",
     "output_type": "stream",
     "text": [
      "data :  False , tipe data :  <class 'bool'>\n"
     ]
    }
   ],
   "source": [
    "biner = bool(int(input(\"masukkan data : \")))\n",
    "print(\"data : \", biner, \", tipe data : \", type(biner))"
   ]
  },
  {
   "cell_type": "markdown",
   "id": "77327c7e",
   "metadata": {},
   "source": [
    "4. Operasi Aritmatika "
   ]
  },
  {
   "cell_type": "code",
   "execution_count": 16,
   "id": "685a9a14",
   "metadata": {},
   "outputs": [
    {
     "name": "stdout",
     "output_type": "stream",
     "text": [
      "hasil dari penjumlahan nya adalaha = 15\n"
     ]
    }
   ],
   "source": [
    "# Penjumlahan +\n",
    "a = 10\n",
    "b = 5\n",
    "print(\"hasil dari penjumlahan nya adalaha =\" , a + b)"
   ]
  },
  {
   "cell_type": "code",
   "execution_count": 17,
   "id": "87c862dd",
   "metadata": {},
   "outputs": [
    {
     "name": "stdout",
     "output_type": "stream",
     "text": [
      "hasil dari pengurangan nya adalaha = 5\n"
     ]
    }
   ],
   "source": [
    "# Pengurangan -\n",
    "a = 10\n",
    "b = 5\n",
    "print(\"hasil dari pengurangan nya adalaha =\" , a - b)"
   ]
  },
  {
   "cell_type": "code",
   "execution_count": 18,
   "id": "5cf863b6",
   "metadata": {},
   "outputs": [
    {
     "name": "stdout",
     "output_type": "stream",
     "text": [
      "hasil dari perkalian nya adalaha = 50\n"
     ]
    }
   ],
   "source": [
    "# Perkalian *\n",
    "a = 10\n",
    "b = 5\n",
    "print(\"hasil dari perkalian nya adalaha =\" , a * b)"
   ]
  },
  {
   "cell_type": "code",
   "execution_count": 19,
   "id": "047c58b2",
   "metadata": {},
   "outputs": [
    {
     "name": "stdout",
     "output_type": "stream",
     "text": [
      "hasil dari pembagian nya adalaha = 2.0\n"
     ]
    }
   ],
   "source": [
    "# Pembagian /\n",
    "a = 10\n",
    "b = 5\n",
    "print(\"hasil dari pembagian nya adalaha =\" , a / b)"
   ]
  },
  {
   "cell_type": "code",
   "execution_count": 20,
   "id": "e5f5ece6",
   "metadata": {},
   "outputs": [
    {
     "name": "stdout",
     "output_type": "stream",
     "text": [
      "hasil dari pangkat nya adalaha = 100000\n"
     ]
    }
   ],
   "source": [
    "# Pangkat **\n",
    "a = 10\n",
    "b = 5\n",
    "print(\"hasil dari pangkat nya adalaha =\" , a ** b)"
   ]
  },
  {
   "cell_type": "code",
   "execution_count": 21,
   "id": "358aae2b",
   "metadata": {},
   "outputs": [
    {
     "name": "stdout",
     "output_type": "stream",
     "text": [
      "hasil dari modulus nya adalaha = 0\n"
     ]
    }
   ],
   "source": [
    "# Modulus %\n",
    "a = 10\n",
    "b = 5\n",
    "print(\"hasil dari modulus nya adalaha =\" , a % b)"
   ]
  },
  {
   "cell_type": "code",
   "execution_count": 22,
   "id": "9be37418",
   "metadata": {},
   "outputs": [
    {
     "name": "stdout",
     "output_type": "stream",
     "text": [
      "hasil dari floor division nya adalaha = 2\n"
     ]
    }
   ],
   "source": [
    "# Floor Division //\n",
    "a = 10\n",
    "b = 5\n",
    "print(\"hasil dari floor division nya adalaha =\" , a // b)"
   ]
  }
 ],
 "metadata": {
  "kernelspec": {
   "display_name": "data-env",
   "language": "python",
   "name": "python3"
  },
  "language_info": {
   "codemirror_mode": {
    "name": "ipython",
    "version": 3
   },
   "file_extension": ".py",
   "mimetype": "text/x-python",
   "name": "python",
   "nbconvert_exporter": "python",
   "pygments_lexer": "ipython3",
   "version": "3.11.13"
  }
 },
 "nbformat": 4,
 "nbformat_minor": 5
}
