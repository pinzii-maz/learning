{
 "cells": [
  {
   "cell_type": "code",
   "execution_count": 3,
   "id": "c8caf068",
   "metadata": {},
   "outputs": [],
   "source": [
    "#tipe data dalam bahasa pemrograman python"
   ]
  },
  {
   "cell_type": "code",
   "execution_count": 6,
   "id": "c3d22b9c",
   "metadata": {},
   "outputs": [
    {
     "name": "stdout",
     "output_type": "stream",
     "text": [
      "data :  1 , tipe data :  <class 'int'>\n"
     ]
    }
   ],
   "source": [
    "#tipe data integer\n",
    "data_integer = 1\n",
    "print(\"data : \", data_integer, \", tipe data : \", type(data_integer))"
   ]
  },
  {
   "cell_type": "code",
   "execution_count": null,
   "id": "250a32ea",
   "metadata": {},
   "outputs": [
    {
     "name": "stdout",
     "output_type": "stream",
     "text": [
      "data :  3.5 , tipe data :  <class 'float'>\n"
     ]
    }
   ],
   "source": [
    "#tipe data float dengan nilai desimal\n",
    "data_float = 3.5\n",
    "print(\"data : \", data_float, \", tipe data : \", type(data_float))"
   ]
  },
  {
   "cell_type": "code",
   "execution_count": 8,
   "id": "af1ad8a6",
   "metadata": {},
   "outputs": [
    {
     "name": "stdout",
     "output_type": "stream",
     "text": [
      "data :  ini adalah string , tipe data :  <class 'str'>\n"
     ]
    }
   ],
   "source": [
    "#tipe data string\n",
    "data_string = \"ini adalah string\"\n",
    "print(\"data : \", data_string, \", tipe data : \", type(data_string))"
   ]
  },
  {
   "cell_type": "code",
   "execution_count": 9,
   "id": "b3b42144",
   "metadata": {},
   "outputs": [
    {
     "name": "stdout",
     "output_type": "stream",
     "text": [
      "data :  False , tipe data :  <class 'bool'>\n"
     ]
    }
   ],
   "source": [
    "#tipe data boolean\n",
    "data_bool = False\n",
    "print(\"data : \", data_bool, \", tipe data : \", type(data_bool))"
   ]
  },
  {
   "cell_type": "code",
   "execution_count": 10,
   "id": "71b6297d",
   "metadata": {},
   "outputs": [
    {
     "name": "stdout",
     "output_type": "stream",
     "text": [
      "data :  5j , tipe data :  <class 'complex'>\n"
     ]
    }
   ],
   "source": [
    "#tipe data complex\n",
    "data_complex = 5j\n",
    "print(\"data : \", data_complex, \", tipe data : \", type(data_complex))"
   ]
  }
 ],
 "metadata": {
  "kernelspec": {
   "display_name": "data-env",
   "language": "python",
   "name": "python3"
  },
  "language_info": {
   "codemirror_mode": {
    "name": "ipython",
    "version": 3
   },
   "file_extension": ".py",
   "mimetype": "text/x-python",
   "name": "python",
   "nbconvert_exporter": "python",
   "pygments_lexer": "ipython3",
   "version": "3.11.13"
  }
 },
 "nbformat": 4,
 "nbformat_minor": 5
}
